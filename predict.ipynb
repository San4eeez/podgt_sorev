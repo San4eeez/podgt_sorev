{
 "cells": [
  {
   "cell_type": "code",
   "id": "initial_id",
   "metadata": {
    "collapsed": true,
    "ExecuteTime": {
     "end_time": "2024-09-05T09:59:04.211014Z",
     "start_time": "2024-09-05T09:59:04.119016Z"
    }
   },
   "source": [
    "import pandas as pd\n",
    "import numpy as np\n",
    "import matplotlib.pyplot as plt\n",
    "from statsmodels.tsa.arima.model import ARIMA\n",
    "\n",
    "# Пример данных\n",
    "data = {\n",
    "    'date': pd.date_range(start='2020-01-01', periods=10, freq='M'),\n",
    "    'oil_price': [50, 55, 60, 58, 62, 65, 70, 68, 72, 75],  # Примерные данные о цене на нефть\n",
    "    'oil_production': [900, 920, 910, 930, 940, 950, 960, 970, 980, 990],  # Примерные данные о добыче нефти\n",
    "    'water_production': [400, 410, 420, 430, 440, 450, 460, 470, 480, 490]  # Примерные данные о добыче воды\n",
    "}\n",
    "\n",
    "df = pd.DataFrame(data)\n",
    "df.set_index('date', inplace=True)\n",
    "\n",
    "# Построение модели ARIMA для прогнозирования цены на нефть\n",
    "model_oil_price = ARIMA(df['oil_price'], order=(5, 1, 0))\n",
    "model_oil_price_fit = model_oil_price.fit()\n",
    "\n",
    "# Прогнозирование на 5 лет вперед (60 месяцев)\n",
    "forecast_oil_price = model_oil_price_fit.forecast(steps=5)\n",
    "\n",
    "forecast_oil_price\n"
   ],
   "outputs": [
    {
     "name": "stderr",
     "output_type": "stream",
     "text": [
      "C:\\Users\\prdb\\AppData\\Local\\Temp\\ipykernel_6368\\20123434.py:8: FutureWarning: 'Y' is deprecated and will be removed in a future version, please use 'YE' instead.\n",
      "  'date': pd.date_range(start='2020-01-01', periods=10, freq='Y'),\n",
      "C:\\Users\\prdb\\PycharmProjects\\zzz\\venv\\Lib\\site-packages\\statsmodels\\tsa\\base\\tsa_model.py:473: ValueWarning: No frequency information was provided, so inferred frequency YE-DEC will be used.\n",
      "  self._init_dates(dates, freq)\n",
      "C:\\Users\\prdb\\PycharmProjects\\zzz\\venv\\Lib\\site-packages\\statsmodels\\tsa\\base\\tsa_model.py:473: ValueWarning: No frequency information was provided, so inferred frequency YE-DEC will be used.\n",
      "  self._init_dates(dates, freq)\n",
      "C:\\Users\\prdb\\PycharmProjects\\zzz\\venv\\Lib\\site-packages\\statsmodels\\tsa\\base\\tsa_model.py:473: ValueWarning: No frequency information was provided, so inferred frequency YE-DEC will be used.\n",
      "  self._init_dates(dates, freq)\n"
     ]
    },
    {
     "data": {
      "text/plain": [
       "2030-12-31    79.877376\n",
       "2031-12-31    77.886247\n",
       "2032-12-31    81.886161\n",
       "2033-12-31    84.884586\n",
       "2034-12-31    89.640700\n",
       "Freq: YE-DEC, Name: predicted_mean, dtype: float64"
      ]
     },
     "execution_count": 2,
     "metadata": {},
     "output_type": "execute_result"
    }
   ],
   "execution_count": 2
  },
  {
   "metadata": {},
   "cell_type": "code",
   "outputs": [],
   "execution_count": null,
   "source": "",
   "id": "9bf9e0af861b19b1"
  }
 ],
 "metadata": {
  "kernelspec": {
   "display_name": "Python 3",
   "language": "python",
   "name": "python3"
  },
  "language_info": {
   "codemirror_mode": {
    "name": "ipython",
    "version": 2
   },
   "file_extension": ".py",
   "mimetype": "text/x-python",
   "name": "python",
   "nbconvert_exporter": "python",
   "pygments_lexer": "ipython2",
   "version": "2.7.6"
  }
 },
 "nbformat": 4,
 "nbformat_minor": 5
}
